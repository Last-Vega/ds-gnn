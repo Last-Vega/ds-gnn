{
 "cells": [
  {
   "cell_type": "code",
   "execution_count": 1,
   "metadata": {},
   "outputs": [
    {
     "name": "stderr",
     "output_type": "stream",
     "text": [
      "/usr/local/lib/python3.8/dist-packages/tqdm/auto.py:22: TqdmWarning: IProgress not found. Please update jupyter and ipywidgets. See https://ipywidgets.readthedocs.io/en/stable/user_install.html\n",
      "  from .autonotebook import tqdm as notebook_tqdm\n"
     ]
    },
    {
     "name": "stdout",
     "output_type": "stream",
     "text": [
      "Adding source directory to the sys.path: '/app/src'\n",
      "['/app/notebooks',\n",
      " '/app/src',\n",
      " '/usr/lib/python38.zip',\n",
      " '/usr/lib/python3.8',\n",
      " '/usr/lib/python3.8/lib-dynload',\n",
      " '',\n",
      " '/usr/local/lib/python3.8/dist-packages',\n",
      " '/usr/lib/python3/dist-packages']\n"
     ]
    }
   ],
   "source": [
    "import sys\n",
    "import os.path as osp\n",
    "import pprint\n",
    "import networkx as nx\n",
    "from tqdm import tqdm\n",
    "from networkx.algorithms import bipartite\n",
    "import numpy as np\n",
    "import pandas as pd\n",
    "import torch\n",
    "\n",
    "SRC_SUBDIR = '/app/src/'\n",
    "SRC_SUBDIR = osp.abspath(SRC_SUBDIR)\n",
    "if SRC_SUBDIR not in sys.path:\n",
    "    print(f'Adding source directory to the sys.path: {SRC_SUBDIR!r}')\n",
    "    sys.path.insert(1, SRC_SUBDIR)\n",
    "pprint.pprint(sys.path)\n",
    "\n",
    "from util import *\n",
    "device = torch.device('cuda' if torch.cuda.is_available() else 'cpu')\n",
    "if torch.cuda.is_available():\n",
    "    torch.set_default_tensor_type('torch.cuda.FloatTensor')"
   ]
  },
  {
   "cell_type": "code",
   "execution_count": 2,
   "metadata": {},
   "outputs": [],
   "source": [
    "df = load_binary('/app/data/df_with_term.pkl')\n",
    "company_node = load_binary('/app/data/company_node.pkl')\n",
    "term_node = load_binary('/app/data/term_node.pkl')"
   ]
  },
  {
   "cell_type": "code",
   "execution_count": 3,
   "metadata": {},
   "outputs": [],
   "source": [
    "def make_patent_any_relation(df, column_name, node_list):\n",
    "    table = str.maketrans({\n",
    "    '\\u3000': '',\n",
    "    ' ': '',\n",
    "    '\\t': ''\n",
    "    })\n",
    "\n",
    "    data = torch.tensor(np.zeros((len(df), len(node_list))), dtype=torch.float32)\n",
    "\n",
    "    for i in tqdm(range(len(df))):\n",
    "        targets = df[column_name].values[i].split('|')\n",
    "        for t in targets:\n",
    "            t = t.translate(table)\n",
    "            if t in node_list:\n",
    "                data[i, node_list.index(t)] = 1\n",
    "    \n",
    "    return data"
   ]
  },
  {
   "cell_type": "code",
   "execution_count": 4,
   "metadata": {},
   "outputs": [
    {
     "name": "stderr",
     "output_type": "stream",
     "text": [
      "100%|██████████| 44564/44564 [00:00<00:00, 48255.20it/s]\n"
     ]
    },
    {
     "data": {
      "text/plain": [
       "'Done'"
      ]
     },
     "execution_count": 4,
     "metadata": {},
     "output_type": "execute_result"
    }
   ],
   "source": [
    "patent_company = make_patent_any_relation(df, 'company', company_node)\n",
    "save_binary(patent_company, '/app/data/patent_company.pkl')"
   ]
  },
  {
   "cell_type": "code",
   "execution_count": 5,
   "metadata": {},
   "outputs": [
    {
     "name": "stderr",
     "output_type": "stream",
     "text": [
      "100%|██████████| 44564/44564 [00:38<00:00, 1164.12it/s]\n"
     ]
    },
    {
     "data": {
      "text/plain": [
       "'Done'"
      ]
     },
     "execution_count": 5,
     "metadata": {},
     "output_type": "execute_result"
    }
   ],
   "source": [
    "patent_term = make_patent_any_relation(df, 'term_all', term_node)\n",
    "save_binary(patent_term, '/app/data/patent_term.pkl')"
   ]
  },
  {
   "cell_type": "code",
   "execution_count": 6,
   "metadata": {},
   "outputs": [
    {
     "data": {
      "text/plain": [
       "'Done'"
      ]
     },
     "execution_count": 6,
     "metadata": {},
     "output_type": "execute_result"
    }
   ],
   "source": [
    "cpt = torch.matmul(patent_company.T, patent_term)\n",
    "cpt = clamp(cpt, 0, 1)\n",
    "cpt = cpt.to('cpu')\n",
    "save_binary(cpt, '/app/data/cpt.pkl')"
   ]
  },
  {
   "cell_type": "code",
   "execution_count": 7,
   "metadata": {},
   "outputs": [],
   "source": [
    "bi_adj = load_binary('/app/data/bipartite_adj.pkl')"
   ]
  },
  {
   "cell_type": "code",
   "execution_count": 8,
   "metadata": {},
   "outputs": [],
   "source": [
    "H = load_binary('/app/data/bipartite_graph.pkl')"
   ]
  },
  {
   "cell_type": "code",
   "execution_count": 19,
   "metadata": {},
   "outputs": [
    {
     "name": "stdout",
     "output_type": "stream",
     "text": [
      "清水建設株式会社 0.1539085628409875\n",
      "大成建設株式会社 0.15356611724828387\n",
      "鹿島建設株式会社 0.15338234995035466\n",
      "株式会社大林組 0.15026749858230806\n",
      "株式会社竹中工務店 0.13913057196744666\n",
      "前田建設工業株式会社 0.12199091899304211\n",
      "株式会社奥村組 0.11914946533494357\n",
      "株式会社熊谷組 0.11771024565783735\n",
      "西松建設株式会社 0.1154283814160206\n",
      "戸田建設株式会社 0.11460623095756382\n",
      "五洋建設株式会社 0.11336862638209189\n",
      "三井住友建設株式会社 0.11267242403908014\n",
      "株式会社フジタ 0.1109405784036741\n",
      "株式会社安藤・間 0.11043151401663431\n",
      "東急建設株式会社 0.09541070609854106\n",
      "佐藤工業株式会社 0.08365465375225116\n",
      "飛島建設株式会社 0.08348063429463459\n",
      "東亜建設工業株式会社 0.08128538281147228\n",
      "オリエンタル白石株式会社 0.07822453796037747\n",
      "鉄建建設株式会社 0.07812842093508236\n",
      "株式会社竹中土木 0.07514179283793129\n",
      "東洋建設株式会社 0.07479791326720432\n",
      "株式会社ピーエス三菱 0.07142765333381737\n",
      "株式会社不動テトラ 0.07110711270226121\n",
      "高砂熱学工業株式会社 0.06756692413898507\n",
      "技術分野 0.06478964168919338\n",
      "株式会社長谷工コーポレーション 0.0646303470678972\n",
      "岡部株式会社 0.0643913615179751\n",
      "東日本旅客鉄道株式会社 0.06335524675843819\n",
      "日本製鉄株式会社 0.06316891120401864\n",
      "------------\n"
     ]
    }
   ],
   "source": [
    "term_centrality = nx.eigenvector_centrality(H, max_iter=1000000)\n",
    "term_centrality = sorted(term_centrality.items(), key=lambda x:x[1], reverse=True)\n",
    "for k, v in term_centrality[:30]:\n",
    "    print(k, v)\n",
    "print('------------')\n"
   ]
  },
  {
   "cell_type": "code",
   "execution_count": 10,
   "metadata": {},
   "outputs": [
    {
     "data": {
      "text/plain": [
       "tensor([[1., 1., 1.,  ..., 0., 0., 0.],\n",
       "        [1., 0., 0.,  ..., 0., 0., 0.],\n",
       "        [1., 1., 1.,  ..., 0., 0., 0.],\n",
       "        ...,\n",
       "        [0., 0., 0.,  ..., 0., 0., 0.],\n",
       "        [1., 0., 0.,  ..., 0., 0., 0.],\n",
       "        [0., 0., 0.,  ..., 0., 0., 0.]], device='cpu')"
      ]
     },
     "execution_count": 10,
     "metadata": {},
     "output_type": "execute_result"
    }
   ],
   "source": [
    "cpt"
   ]
  },
  {
   "cell_type": "code",
   "execution_count": null,
   "metadata": {},
   "outputs": [],
   "source": []
  }
 ],
 "metadata": {
  "kernelspec": {
   "display_name": "Python 3",
   "language": "python",
   "name": "python3"
  },
  "language_info": {
   "codemirror_mode": {
    "name": "ipython",
    "version": 3
   },
   "file_extension": ".py",
   "mimetype": "text/x-python",
   "name": "python",
   "nbconvert_exporter": "python",
   "pygments_lexer": "ipython3",
   "version": "3.8.10"
  },
  "orig_nbformat": 4
 },
 "nbformat": 4,
 "nbformat_minor": 2
}
