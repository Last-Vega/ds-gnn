{
 "cells": [
  {
   "cell_type": "code",
   "execution_count": 1,
   "metadata": {},
   "outputs": [
    {
     "name": "stderr",
     "output_type": "stream",
     "text": [
      "/usr/local/lib/python3.8/dist-packages/tqdm/auto.py:22: TqdmWarning: IProgress not found. Please update jupyter and ipywidgets. See https://ipywidgets.readthedocs.io/en/stable/user_install.html\n",
      "  from .autonotebook import tqdm as notebook_tqdm\n"
     ]
    }
   ],
   "source": [
    "import numpy as np\n",
    "import torch\n",
    "from torch.optim import Adam\n",
    "import torch.nn.functional as F\n",
    "from tqdm import tqdm\n",
    "import torch.nn as nn\n",
    "\n",
    "from util import *\n",
    "from model import *\n",
    "device = torch.device('cuda' if torch.cuda.is_available() else 'cpu')\n",
    "if torch.cuda.is_available():\n",
    "\ttorch.set_default_tensor_type('torch.cuda.FloatTensor')"
   ]
  },
  {
   "cell_type": "code",
   "execution_count": 2,
   "metadata": {},
   "outputs": [],
   "source": [
    "# patent_company = load_binary('/app/data/new/patent_company_new.pkl')\n",
    "# patent_term = load_binary('/app/data/new/patent_term_new.pkl')\n",
    "# patent_company = torch.from_numpy(patent_company).to(torch.float)\n",
    "# patent_term = torch.from_numpy(patent_term).to(torch.float)\n",
    "\n",
    "\n",
    "# cpc = clamp(torch.matmul(patent_company.T, patent_company), 0, 1).to('cpu')\n",
    "# save_binary(cpc, '/app/data/cpc_new.pkl')\n",
    "# cpc = csr_matrix(cpc)\n",
    "# adj_orig = cpc\n",
    "\n",
    "# cpt = clamp(torch.matmul(patent_company.T, patent_term), 0, 1).to('cpu').T\n",
    "# cpt.shape\n",
    "# save_binary(cpt, '/app/data/cpt_new.pkl')\n",
    "# cpt.shape\n",
    "# cpt_tensor = cpt\n",
    "# cpt = csr_matrix(cpt)"
   ]
  },
  {
   "cell_type": "code",
   "execution_count": 3,
   "metadata": {},
   "outputs": [],
   "source": [
    "patent_company = load_binary('/app/data/new2/patent_company_new.pkl')\n",
    "patent_term = load_binary('/app/data/new2/patent_term_new.pkl')\n",
    "patent_company = torch.from_numpy(patent_company).to(torch.float)\n",
    "patent_term = torch.from_numpy(patent_term).to(torch.float)\n",
    "\n",
    "\n",
    "cpc = clamp(torch.matmul(patent_company.T, patent_company), 0, 1).to('cpu')\n",
    "save_binary(cpc, '/app/data/new2/cpc_new.pkl')\n",
    "cpc = csr_matrix(cpc)\n",
    "adj_orig = cpc\n",
    "\n",
    "cpt = clamp(torch.matmul(patent_company.T, patent_term), 0, 1).to('cpu').T\n",
    "cpt.shape\n",
    "save_binary(cpt, '/app/data/new2/cpt_new.pkl')\n",
    "cpt.shape\n",
    "cpt_tensor = cpt\n",
    "cpt = csr_matrix(cpt)"
   ]
  },
  {
   "cell_type": "code",
   "execution_count": 4,
   "metadata": {},
   "outputs": [],
   "source": [
    "adj_norm, adj_label, norm, weight_tensor = prepare_adj_for_training(cpc)"
   ]
  },
  {
   "cell_type": "code",
   "execution_count": 5,
   "metadata": {},
   "outputs": [
    {
     "data": {
      "text/plain": [
       "tensor(indices=tensor([[   0,    2,    4,  ...,   30,  190, 4737],\n",
       "                       [   0,    0,    0,  ..., 4737, 4737, 4737]]),\n",
       "       values=tensor([0.0119, 0.0047, 0.0029,  ..., 0.0310, 0.0822, 0.5000]),\n",
       "       device='cpu', size=(4738, 4738), nnz=38948, layout=torch.sparse_coo)"
      ]
     },
     "execution_count": 5,
     "metadata": {},
     "output_type": "execute_result"
    }
   ],
   "source": [
    "adj_norm"
   ]
  },
  {
   "cell_type": "code",
   "execution_count": 6,
   "metadata": {},
   "outputs": [
    {
     "name": "stderr",
     "output_type": "stream",
     "text": [
      "/app/notebooks/util.py:161: RuntimeWarning: divide by zero encountered in power\n",
      "  degree_mat_inv_sqrt_col = sp.diags(np.power(colsum, -0.5).flatten())\n"
     ]
    }
   ],
   "source": [
    "bi_adj_norm, biadj_label, norm_bi, weight_tensor_bi = prepare_biadj_for_training(cpt)"
   ]
  },
  {
   "cell_type": "code",
   "execution_count": 7,
   "metadata": {},
   "outputs": [
    {
     "data": {
      "text/plain": [
       "torch.Size([4738, 9572])"
      ]
     },
     "execution_count": 7,
     "metadata": {},
     "output_type": "execute_result"
    }
   ],
   "source": [
    "bi_adj_norm.shape"
   ]
  },
  {
   "cell_type": "code",
   "execution_count": 8,
   "metadata": {},
   "outputs": [],
   "source": [
    "bi_adj_norm = bi_adj_norm.to(device)"
   ]
  },
  {
   "cell_type": "code",
   "execution_count": 9,
   "metadata": {},
   "outputs": [
    {
     "name": "stdout",
     "output_type": "stream",
     "text": [
      "biadj_label shape:  torch.Size([4738, 9572])\n",
      "bi_adj_norm shape:  torch.Size([9572, 4738])\n"
     ]
    }
   ],
   "source": [
    "feature = create_feature(adj_norm.shape[0])\n",
    "feature = prepare_features_for_training(feature)\n",
    "\n",
    "input_dim = feature.shape[1]\n",
    "bipartite_dim = cpt.shape[1]\n",
    "\n",
    "adj_norm = adj_norm.to(device)\n",
    "adj_label = adj_label.to(device)\n",
    "biadj_label = biadj_label.to(device).T\n",
    "print('biadj_label shape: ', biadj_label.shape)\n",
    "bi_adj_norm = bi_adj_norm.to(device).T\n",
    "print('bi_adj_norm shape: ', bi_adj_norm.shape)\n",
    "\n",
    "\n",
    "weight_tensor = weight_tensor.to(device)\n",
    "weight_tensor_bi = weight_tensor_bi.to(device)\n",
    "feature = feature.to(device)\n",
    "dropout = 0.0\n",
    "model = HeteroVGAE(input_dim, bipartite_dim, hidden1_dim=4, hidden2_dim=2, dropout=dropout)\n",
    "model = model.to(device)\n",
    "optimizer = Adam(model.parameters(), lr=0.01)"
   ]
  },
  {
   "cell_type": "code",
   "execution_count": 10,
   "metadata": {},
   "outputs": [
    {
     "name": "stdout",
     "output_type": "stream",
     "text": [
      "bi_adj_norm shape:  torch.Size([9572, 4738])\n",
      "biadj_label shape:  torch.Size([4738, 9572])\n"
     ]
    },
    {
     "data": {
      "text/plain": [
       "'Done'"
      ]
     },
     "execution_count": 10,
     "metadata": {},
     "output_type": "execute_result"
    }
   ],
   "source": [
    "# save_binary(adj_norm, '/app/data/new/adj_norm.pkl')\n",
    "# save_binary(adj_label, '/app/data/new/adj_label.pkl')\n",
    "# save_binary(norm, '/app/data/new/norm.pkl')\n",
    "# save_binary(weight_tensor, '/app/data/new/weight_tensor.pkl')\n",
    "# print('bi_adj_norm shape: ', bi_adj_norm.shape)\n",
    "# save_binary(bi_adj_norm, '/app/data/new/bi_adj_norm.pkl')\n",
    "# print('biadj_label shape: ', biadj_label.shape)\n",
    "# save_binary(biadj_label, '/app/data/new/biadj_label.pkl')\n",
    "# save_binary(norm_bi, '/app/data/new/norm_bi.pkl')\n",
    "# save_binary(weight_tensor_bi, '/app/data/new/weight_tensor_bi.pkl')\n",
    "\n",
    "save_binary(adj_norm, '/app/data/new2/adj_norm.pkl')\n",
    "save_binary(adj_label, '/app/data/new2/adj_label.pkl')\n",
    "save_binary(norm, '/app/data/new2/norm.pkl')\n",
    "save_binary(weight_tensor, '/app/data/new2/weight_tensor.pkl')\n",
    "print('bi_adj_norm shape: ', bi_adj_norm.shape)\n",
    "save_binary(bi_adj_norm, '/app/data/new2/bi_adj_norm.pkl')\n",
    "print('biadj_label shape: ', biadj_label.shape)\n",
    "save_binary(biadj_label, '/app/data/new2/biadj_label.pkl')\n",
    "save_binary(norm_bi, '/app/data/new2/norm_bi.pkl')\n",
    "save_binary(weight_tensor_bi, '/app/data/new2/weight_tensor_bi.pkl')"
   ]
  },
  {
   "cell_type": "code",
   "execution_count": 11,
   "metadata": {},
   "outputs": [],
   "source": [
    "def train(epoch):\n",
    "    history = {'loss':[], 'acc':[], 'ap':[], 'roc':[]}\n",
    "\n",
    "    model.train()\n",
    "    for i in tqdm(range(epoch)):\n",
    "        z_c, z_t, A_pred, Bi_pred = model(feature, adj_norm, bi_adj_norm)\n",
    "\n",
    "        users_zc = z_c.clone()\n",
    "        users_zc[16] = z_c[28]\n",
    "        # print(users_zc[16])\n",
    "        # print(z_c[16])\n",
    "        # print(z_c[28])\n",
    "\n",
    "\n",
    "        optimizer.zero_grad()\n",
    "\n",
    "        loss = model.loss_function(norm, norm_bi, adj_label, biadj_label, A_pred, Bi_pred, weight_tensor, weight_tensor_bi, users_zc)\n",
    "\n",
    "        loss.backward()\n",
    "        optimizer.step()\n",
    "\n",
    "        # embedding_company = z_c.cpu().detach().numpy()\n",
    "        # embedding_term = z_t.cpu().detach().numpy()\n",
    "        # # train_acc = get_acc(A_pred, adj_label)\n",
    "        # roc_curr, ap_curr = get_scores(embedding_company, adj_orig, val_edges, val_edges_false)\n",
    "\n",
    "        history['loss'].append(loss.item())\n",
    "        # history['acc'].append(train_acc.item())\n",
    "        # history['ap'].append(ap_curr)\n",
    "        # history['roc'].append(roc_curr)\n",
    "\n",
    "        # print(\"Epoch:\", '%04d' % (i + 1), \"train_loss=\", \"{:.5f}\".format(loss.item()),\n",
    "        #       \"train_acc=\", \"{:.5f}\".format(train_acc),\n",
    "        #       \"val_ap=\", \"{:.5f}\".format(ap_curr), \n",
    "        #       \"val_roc=\", \"{:.5f}\".format(roc_curr))\n",
    "        if i % 100 == 0:\n",
    "            print(loss.item())\n",
    "        embedding_company = z_c.to('cpu').detach()\n",
    "        embedding_term = z_t.to('cpu').detach()\n",
    "    return model, embedding_company, embedding_term, A_pred, history"
   ]
  },
  {
   "cell_type": "code",
   "execution_count": 12,
   "metadata": {},
   "outputs": [
    {
     "name": "stderr",
     "output_type": "stream",
     "text": [
      "  0%|          | 0/100 [00:00<?, ?it/s]"
     ]
    },
    {
     "name": "stderr",
     "output_type": "stream",
     "text": [
      "  6%|▌         | 6/100 [00:00<00:03, 24.88it/s]"
     ]
    },
    {
     "name": "stdout",
     "output_type": "stream",
     "text": [
      "1932558.0\n"
     ]
    },
    {
     "name": "stderr",
     "output_type": "stream",
     "text": [
      "100%|██████████| 100/100 [00:03<00:00, 31.08it/s]\n"
     ]
    }
   ],
   "source": [
    "num_train = 100\n",
    "model, embedding_company, embedding_term, A_pred, history = train(num_train)\n",
    "# torch.save(model.state_dict(), \"/app/model/model-4.pt\")"
   ]
  },
  {
   "cell_type": "code",
   "execution_count": 13,
   "metadata": {},
   "outputs": [
    {
     "data": {
      "text/plain": [
       "torch.Size([4738, 2])"
      ]
     },
     "execution_count": 13,
     "metadata": {},
     "output_type": "execute_result"
    }
   ],
   "source": [
    "embedding_company.shape"
   ]
  },
  {
   "cell_type": "code",
   "execution_count": 14,
   "metadata": {},
   "outputs": [
    {
     "data": {
      "text/plain": [
       "torch.Size([9572, 2])"
      ]
     },
     "execution_count": 14,
     "metadata": {},
     "output_type": "execute_result"
    }
   ],
   "source": [
    "embedding_term.shape"
   ]
  },
  {
   "cell_type": "code",
   "execution_count": null,
   "metadata": {},
   "outputs": [],
   "source": []
  }
 ],
 "metadata": {
  "kernelspec": {
   "display_name": "Python 3",
   "language": "python",
   "name": "python3"
  },
  "language_info": {
   "codemirror_mode": {
    "name": "ipython",
    "version": 3
   },
   "file_extension": ".py",
   "mimetype": "text/x-python",
   "name": "python",
   "nbconvert_exporter": "python",
   "pygments_lexer": "ipython3",
   "version": "3.8.10"
  },
  "orig_nbformat": 4
 },
 "nbformat": 4,
 "nbformat_minor": 2
}
